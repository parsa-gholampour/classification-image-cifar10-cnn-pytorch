{
  "nbformat": 4,
  "nbformat_minor": 0,
  "metadata": {
    "colab": {
      "provenance": [],
      "authorship_tag": "ABX9TyMTmNHTCSOVaEHixsFYeUWS",
      "include_colab_link": true
    },
    "kernelspec": {
      "name": "python3",
      "display_name": "Python 3"
    },
    "language_info": {
      "name": "python"
    }
  },
  "cells": [
    {
      "cell_type": "markdown",
      "metadata": {
        "id": "view-in-github",
        "colab_type": "text"
      },
      "source": [
        "<a href=\"https://colab.research.google.com/github/parsa-gholampour/classification-image-cifar10-cnn-pytorch/blob/main/image_classification_cnn_cifar10.ipynb\" target=\"_parent\"><img src=\"https://colab.research.google.com/assets/colab-badge.svg\" alt=\"Open In Colab\"/></a>"
      ]
    },
    {
      "cell_type": "code",
      "execution_count": 4,
      "metadata": {
        "id": "euHGrbEqQKCb"
      },
      "outputs": [],
      "source": [
        "import numpy as np\n",
        "from PIL import Image\n",
        "\n",
        "import torch\n",
        "import torch.nn as nn\n",
        "import torch.nn.functional as F\n",
        "import torch.optim as optim\n",
        "\n",
        "import torchvision\n",
        "import torchvision.transforms as transforms\n"
      ]
    },
    {
      "cell_type": "code",
      "source": [
        "transform = transforms.Compose([\n",
        "    transforms.ToTensor(),\n",
        "    transforms.Normalize((0.5, 0.5, 0.5), (0.5, 0.5, 0.5))\n",
        "])"
      ],
      "metadata": {
        "id": "dCoYYtfsQ0Cs"
      },
      "execution_count": 5,
      "outputs": []
    },
    {
      "cell_type": "code",
      "source": [
        "train_data = torchvision.datasets.CIFAR10(root='./data', train=True, transform=transform, download=True)\n",
        "test_data = torchvision.datasets.CIFAR10(root='./data', train=False, transform=transform, download=True)\n",
        "\n",
        "train_loader = torch.utils.data.DataLoader(train_data, batch_size=32, shuffle=True, num_workers=2)\n",
        "test_loader = torch.utils.data.DataLoader(test_data, batch_size=32, shuffle=True, num_workers=2)"
      ],
      "metadata": {
        "colab": {
          "base_uri": "https://localhost:8080/"
        },
        "id": "Q7t8CNoLRikz",
        "outputId": "5e61aaaf-3b6d-4332-935a-f921bbe116f1"
      },
      "execution_count": 8,
      "outputs": [
        {
          "output_type": "stream",
          "name": "stdout",
          "text": [
            "Files already downloaded and verified\n",
            "Files already downloaded and verified\n"
          ]
        }
      ]
    },
    {
      "cell_type": "code",
      "source": [
        "image, label = train_data[0]"
      ],
      "metadata": {
        "id": "laYjmCZyStum"
      },
      "execution_count": 9,
      "outputs": []
    },
    {
      "cell_type": "code",
      "source": [
        "image.size()"
      ],
      "metadata": {
        "colab": {
          "base_uri": "https://localhost:8080/"
        },
        "id": "r0jg2FjiS1kY",
        "outputId": "293ca834-5579-4366-edec-88dc79110c93"
      },
      "execution_count": 10,
      "outputs": [
        {
          "output_type": "execute_result",
          "data": {
            "text/plain": [
              "torch.Size([3, 32, 32])"
            ]
          },
          "metadata": {},
          "execution_count": 10
        }
      ]
    },
    {
      "cell_type": "code",
      "source": [
        "class_names = ['plane', 'car', 'bird', 'cat', 'deer', 'dog', 'frog', 'horse', 'ship', 'truck']"
      ],
      "metadata": {
        "id": "WrpuPRqTTv9n"
      },
      "execution_count": 11,
      "outputs": []
    },
    {
      "cell_type": "code",
      "source": [
        "class NeuralNet(nn.Module):\n",
        "\n",
        "  def __init__(self):\n",
        "    super().__init__()\n",
        "\n",
        "    self.conv1 = nn.Conv2d(3, 12, 5) # (12, 28, 28)\n",
        "    self.pool = nn.MaxPool2d(2, 2) # (12, 14, 14)\n",
        "    self.conv2 = nn.Conv2d(12, 24, 5) # (24, 10 , 10) => (24, 5, 5) => Flatten (24 * 5 * 5)\n",
        "    self.fc1 = nn.Linear(24 * 5 * 5, 120)\n",
        "    self.fc2 = nn.Linear(120, 84)\n",
        "    self.fc3 = nn.Linear(84, 10)\n",
        "\n",
        "  def forward(self, x):\n",
        "    x = self.pool(F.relu(self.conv1(x)))\n",
        "    x = self.pool(F.relu(self.conv2(x)))\n",
        "    x = torch.flatten(x, 1)\n",
        "    x = F.relu(self.fc1(x))\n",
        "    x = F.relu(self.fc2(x))\n",
        "    x = self.fc3(x)\n",
        "    return x"
      ],
      "metadata": {
        "id": "6Y9KJyweUKpX"
      },
      "execution_count": 12,
      "outputs": []
    },
    {
      "cell_type": "code",
      "source": [
        "net = NeuralNet()\n",
        "loss_function = nn.CrossEntropyLoss()\n",
        "optimizer = optim.SGD(net.parameters(), lr=0.001, momentum=0.9)"
      ],
      "metadata": {
        "id": "-jWLsDeLYaLP"
      },
      "execution_count": 13,
      "outputs": []
    },
    {
      "cell_type": "code",
      "source": [
        "for epoch in range(30):\n",
        "  print(f'Training epoch {epoch}...')\n",
        "\n",
        "  running_loss = 0.0\n",
        "\n",
        "  for i, data in enumerate(train_loader):\n",
        "    inputs, labels = data\n",
        "\n",
        "    optimizer.zero_grad()\n",
        "\n",
        "    outputs = net(inputs)\n",
        "\n",
        "    loss = loss_function(outputs, labels)\n",
        "    loss.backward()\n",
        "    optimizer.step()\n",
        "\n",
        "    running_loss += loss.item()\n",
        "  print(f'Loss: {running_loss / len(train_loader):.4f}')"
      ],
      "metadata": {
        "colab": {
          "base_uri": "https://localhost:8080/"
        },
        "id": "1KP8FbzdZBK7",
        "outputId": "a29daee0-9c7a-4e45-fce6-19cbbc9c3c2b"
      },
      "execution_count": 14,
      "outputs": [
        {
          "output_type": "stream",
          "name": "stdout",
          "text": [
            "Training epoch 0...\n",
            "Loss: 2.1972\n",
            "Training epoch 1...\n",
            "Loss: 1.7396\n",
            "Training epoch 2...\n",
            "Loss: 1.5085\n",
            "Training epoch 3...\n",
            "Loss: 1.3857\n",
            "Training epoch 4...\n",
            "Loss: 1.2997\n",
            "Training epoch 5...\n",
            "Loss: 1.2245\n",
            "Training epoch 6...\n",
            "Loss: 1.1576\n",
            "Training epoch 7...\n",
            "Loss: 1.0996\n",
            "Training epoch 8...\n",
            "Loss: 1.0426\n",
            "Training epoch 9...\n",
            "Loss: 0.9954\n",
            "Training epoch 10...\n",
            "Loss: 0.9511\n",
            "Training epoch 11...\n",
            "Loss: 0.9118\n",
            "Training epoch 12...\n",
            "Loss: 0.8712\n",
            "Training epoch 13...\n",
            "Loss: 0.8368\n",
            "Training epoch 14...\n",
            "Loss: 0.8022\n",
            "Training epoch 15...\n",
            "Loss: 0.7705\n",
            "Training epoch 16...\n",
            "Loss: 0.7454\n",
            "Training epoch 17...\n",
            "Loss: 0.7174\n",
            "Training epoch 18...\n",
            "Loss: 0.6933\n",
            "Training epoch 19...\n",
            "Loss: 0.6679\n",
            "Training epoch 20...\n",
            "Loss: 0.6432\n",
            "Training epoch 21...\n",
            "Loss: 0.6204\n",
            "Training epoch 22...\n",
            "Loss: 0.5989\n",
            "Training epoch 23...\n",
            "Loss: 0.5731\n",
            "Training epoch 24...\n",
            "Loss: 0.5550\n",
            "Training epoch 25...\n",
            "Loss: 0.5305\n",
            "Training epoch 26...\n",
            "Loss: 0.5135\n",
            "Training epoch 27...\n",
            "Loss: 0.4860\n",
            "Training epoch 28...\n",
            "Loss: 0.4718\n",
            "Training epoch 29...\n",
            "Loss: 0.4505\n"
          ]
        }
      ]
    },
    {
      "cell_type": "code",
      "source": [
        "torch.save(net.state_dict(), 'trained_net.pth')"
      ],
      "metadata": {
        "id": "VmOD5sMSbgFv"
      },
      "execution_count": 15,
      "outputs": []
    },
    {
      "cell_type": "code",
      "source": [
        "net = NeuralNet()\n",
        "net.load_state_dict(torch.load('trained_net.pth'))"
      ],
      "metadata": {
        "colab": {
          "base_uri": "https://localhost:8080/"
        },
        "id": "DV4taxEDbx1j",
        "outputId": "e932995a-38e8-414a-f7f5-39c5e9a3d2c7"
      },
      "execution_count": 16,
      "outputs": [
        {
          "output_type": "execute_result",
          "data": {
            "text/plain": [
              "<All keys matched successfully>"
            ]
          },
          "metadata": {},
          "execution_count": 16
        }
      ]
    },
    {
      "cell_type": "code",
      "source": [
        "correct = 0\n",
        "total = 0\n",
        "\n",
        "net.eval()\n",
        "\n",
        "with torch.no_grad():\n",
        "  for data in test_loader:\n",
        "    images, labels = data\n",
        "    outputs = net(images)\n",
        "    _, predicted = torch.max(outputs, 1)\n",
        "    total += labels.size(0)\n",
        "    correct += (predicted == labels).sum().item()\n",
        "\n",
        "accuracy = 100 * correct / total\n",
        "\n",
        "print(f'Accuracy: {accuracy}%')"
      ],
      "metadata": {
        "colab": {
          "base_uri": "https://localhost:8080/"
        },
        "id": "ds3Y6Z5XcIPK",
        "outputId": "f1d7166a-6178-4ccc-c755-7892b443b1dc"
      },
      "execution_count": 17,
      "outputs": [
        {
          "output_type": "stream",
          "name": "stdout",
          "text": [
            "Accuracy: 68.69%\n"
          ]
        }
      ]
    },
    {
      "cell_type": "code",
      "source": [
        "new_transform = transforms.Compose([\n",
        "    transforms.Resize((32, 32)),\n",
        "    transforms.ToTensor(),\n",
        "    transforms.Normalize((0.5, 0.5, 0.5), (0.5, 0.5, 0.5))\n",
        "])\n",
        "\n",
        "def load_image(image_path):\n",
        "  image = Image.open(image_path)\n",
        "  image = new_transform(image)\n",
        "  image = image.unsqueeze(0)\n",
        "  return image\n",
        "\n",
        "image_paths = ['example1.jpg', 'example2.jpg', 'example3.jpg']\n",
        "images = [load_image(img) for img in image_paths]\n",
        "\n",
        "net.eval()\n",
        "with torch.no_grad():\n",
        "  for image in images:\n",
        "    output = net(image)\n",
        "    _, predicted = torch.max(output, 1)\n",
        "    print(f'Prediction: {class_names[predicted.item()]}')"
      ],
      "metadata": {
        "colab": {
          "base_uri": "https://localhost:8080/"
        },
        "id": "exD3DLUegfYX",
        "outputId": "88c92ff2-1c83-4cfb-be2f-0905a86d6b0d"
      },
      "execution_count": 21,
      "outputs": [
        {
          "output_type": "stream",
          "name": "stdout",
          "text": [
            "Prediction: cat\n",
            "Prediction: plane\n",
            "Prediction: truck\n"
          ]
        }
      ]
    },
    {
      "cell_type": "code",
      "source": [],
      "metadata": {
        "id": "ijQtDtIqiWXr"
      },
      "execution_count": null,
      "outputs": []
    },
    {
      "cell_type": "markdown",
      "source": [
        "'cat' is wrong but 'plane' and 'truck' is right. Due to 68% accuracy."
      ],
      "metadata": {
        "id": "VyyKmMSxiXqA"
      }
    }
  ]
}